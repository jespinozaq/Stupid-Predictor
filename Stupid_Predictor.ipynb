{
  "nbformat": 4,
  "nbformat_minor": 0,
  "metadata": {
    "colab": {
      "name": "Stupid Predictor.ipynb",
      "provenance": []
    },
    "kernelspec": {
      "name": "python3",
      "display_name": "Python 3"
    },
    "language_info": {
      "name": "python"
    }
  },
  "cells": [
    {
      "cell_type": "code",
      "metadata": {
        "colab": {
          "base_uri": "https://localhost:8080/"
        },
        "id": "QYe5vtul4KRd",
        "outputId": "b67e750b-ba28-4863-e19c-580f66629e9d"
      },
      "source": [
        "! pwd"
      ],
      "execution_count": 13,
      "outputs": [
        {
          "output_type": "stream",
          "name": "stdout",
          "text": [
            "/content\n"
          ]
        }
      ]
    },
    {
      "cell_type": "code",
      "metadata": {
        "colab": {
          "base_uri": "https://localhost:8080/"
        },
        "id": "T_wa6qgOj-Y9",
        "outputId": "25c86d4a-c250-4034-87f8-598317960916"
      },
      "source": [
        "! pip install kaggle\n",
        "! mkdir ~/.kaggle\n",
        "! cp ./kaggle.json ~/.kaggle/\n",
        "! chmod 600 ~/.kaggle/kaggle.json"
      ],
      "execution_count": 16,
      "outputs": [
        {
          "output_type": "stream",
          "name": "stdout",
          "text": [
            "Requirement already satisfied: kaggle in /usr/local/lib/python3.7/dist-packages (1.5.12)\n",
            "Requirement already satisfied: six>=1.10 in /usr/local/lib/python3.7/dist-packages (from kaggle) (1.15.0)\n",
            "Requirement already satisfied: certifi in /usr/local/lib/python3.7/dist-packages (from kaggle) (2021.5.30)\n",
            "Requirement already satisfied: python-slugify in /usr/local/lib/python3.7/dist-packages (from kaggle) (5.0.2)\n",
            "Requirement already satisfied: requests in /usr/local/lib/python3.7/dist-packages (from kaggle) (2.23.0)\n",
            "Requirement already satisfied: tqdm in /usr/local/lib/python3.7/dist-packages (from kaggle) (4.62.0)\n",
            "Requirement already satisfied: urllib3 in /usr/local/lib/python3.7/dist-packages (from kaggle) (1.24.3)\n",
            "Requirement already satisfied: python-dateutil in /usr/local/lib/python3.7/dist-packages (from kaggle) (2.8.2)\n",
            "Requirement already satisfied: text-unidecode>=1.3 in /usr/local/lib/python3.7/dist-packages (from python-slugify->kaggle) (1.3)\n",
            "Requirement already satisfied: chardet<4,>=3.0.2 in /usr/local/lib/python3.7/dist-packages (from requests->kaggle) (3.0.4)\n",
            "Requirement already satisfied: idna<3,>=2.5 in /usr/local/lib/python3.7/dist-packages (from requests->kaggle) (2.10)\n",
            "mkdir: cannot create directory ‘/root/.kaggle’: File exists\n"
          ]
        }
      ]
    },
    {
      "cell_type": "code",
      "metadata": {
        "colab": {
          "base_uri": "https://localhost:8080/"
        },
        "id": "nKDEYqgtspq9",
        "outputId": "6800fdff-3276-4093-8747-662f9d5bda49"
      },
      "source": [
        "import pandas as pd\n",
        "import random\n",
        "\n",
        "print(\"Predictor will predict bad team that does not win superbowl and show good team that won superbowl\")\n",
        "print(\" \")\n",
        "\n",
        "#read in superbowl csv file\n",
        "df = pd.read_csv('superbowl.csv')\n",
        "\n",
        "#limits the file to just the winner column and reads it\n",
        "winnerList = pd.read_csv(\"superbowl.csv\", usecols= [2])\n",
        "\n",
        "#selects the New York Jets as the team to not win the superbowl\n",
        "bad_team = winnerList.iloc[51]\n",
        "\n",
        "#selects random integer from list range of superbowl winners\n",
        "random_winner = random.randint(0,53)\n",
        "\n",
        "#selects random superbowl winner\n",
        "winner = winnerList.iloc[random_winner]\n",
        "\n",
        "#prints out year that the random superbowl winner won\n",
        "print(\"Superbowl Year: \" + df.Date[random_winner])\n",
        "\n",
        "#prints out just the name of the teams\n",
        "print(\"Guessed Bad Team: \" + bad_team[0])\n",
        "print(\"Good Team was: \" + winner[0])\n"
      ],
      "execution_count": 41,
      "outputs": [
        {
          "output_type": "stream",
          "name": "stdout",
          "text": [
            "Predictor will predict bad team that does not win superbowl and show good team that won superbowl\n",
            " \n",
            "Superbowl Year: Feb 1 2004\n",
            "Guessed Bad Team: New York Jets\n",
            "Good Team was: New England Patriots\n"
          ]
        }
      ]
    }
  ]
}